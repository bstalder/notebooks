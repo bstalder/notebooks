{
 "cells": [
  {
   "cell_type": "markdown",
   "metadata": {},
   "source": [
    "# Fe55 testing on electro-optical Camera test stand data\n",
    "\n",
    "## Last run with w_2018_28, on July 19, 2018"
   ]
  },
  {
   "cell_type": "markdown",
   "metadata": {},
   "source": [
    "First, importing..."
   ]
  },
  {
   "cell_type": "code",
   "execution_count": 1,
   "metadata": {},
   "outputs": [],
   "source": [
    "import numpy as np\n",
    "import lsst.daf.persistence as dafPersist\n",
    "from lsst.ip.isr import AssembleCcdTask    # force an import of pcaPsfDeterminer.py (which selects ds9) (DM-13432)\n",
    "import lsst.afw.cameraGeom.utils as cameraGeomUtils\n",
    "import lsst.afw.display as afwDisplay\n",
    "import matplotlib.pyplot as plt\n",
    "\n",
    "%matplotlib inline \n",
    "#%matplotlib notebook\n",
    "#%config InlineBackend.figure_format = 'retina'\n",
    "\n",
    "#%matplotlib qt\n",
    "#%gui qt"
   ]
  },
  {
   "cell_type": "code",
   "execution_count": 2,
   "metadata": {},
   "outputs": [],
   "source": [
    "afwDisplay.setDefaultBackend(\"matplotlib\" if True else \"ds9\")\n"
   ]
  },
  {
   "cell_type": "code",
   "execution_count": 3,
   "metadata": {},
   "outputs": [
    {
     "name": "stdout",
     "output_type": "stream",
     "text": [
      "Available runs: 4389 4417\n"
     ]
    }
   ],
   "source": [
    "dataPath = \"/datasets/comCam/repo/rtm5\"\n",
    "\n",
    "butler = dafPersist.Butler(dataPath)\n",
    "print(\"Available runs: %s\" % (\" \".join(butler.queryMetadata('raw', ['run']))))  # available runs\n"
   ]
  },
  {
   "cell_type": "code",
   "execution_count": 4,
   "metadata": {},
   "outputs": [
    {
     "name": "stdout",
     "output_type": "stream",
     "text": [
      "Available visits: [('4389', 269894410, 'DARK', 'BIAS', 550, 0.0), ('4389', 269894435, 'DARK', 'BIAS', 550, 0.0), ('4389', 269894460, 'DARK', 'BIAS', 550, 0.0), ('4389', 269894486, 'DARK', 'BIAS', 550, 0.0), ('4389', 269894511, 'DARK', 'BIAS', 550, 0.0), ('4389', 269895155, 'DARK', 'DARK', 550, 500.0), ('4389', 269895842, 'DARK', 'DARK', 550, 500.0), ('4389', 269896528, 'DARK', 'DARK', 550, 500.0), ('4389', 269897215, 'DARK', 'DARK', 550, 500.0), ('4389', 269892434, 'FE55', 'BIAS', 550, 0.0), ('4389', 269892463, 'FE55', 'BIAS', 550, 0.0), ('4389', 269892490, 'FE55', 'BIAS', 550, 0.0), ('4389', 269892518, 'FE55', 'BIAS', 550, 0.0), ('4389', 269892546, 'FE55', 'BIAS', 550, 0.0), ('4389', 269892754, 'FE55', 'FE55', 550, 120.0), ('4389', 269893006, 'FE55', 'FE55', 550, 120.0), ('4389', 269893257, 'FE55', 'FE55', 550, 120.0), ('4389', 269893506, 'FE55', 'FE55', 550, 120.0), ('4389', 269893758, 'FE55', 'FE55', 550, 120.0), ('4389', 269897766, 'FLAT', 'FLAT', 675, 0.327), ('4389', 269897868, 'FLAT', 'FLAT', 675, 0.327), ('4389', 269898090, 'FLAT', 'FLAT', 675, 0.523), ('4389', 269898188, 'FLAT', 'FLAT', 675, 0.523), ('4389', 269898421, 'FLAT', 'FLAT', 675, 0.785), ('4389', 269898519, 'FLAT', 'FLAT', 675, 0.785), ('4389', 269898739, 'FLAT', 'FLAT', 675, 1.636), ('4389', 269898839, 'FLAT', 'FLAT', 675, 1.636), ('4389', 269899061, 'FLAT', 'FLAT', 675, 3.273), ('4389', 269899165, 'FLAT', 'FLAT', 675, 3.273), ('4389', 269899393, 'FLAT', 'FLAT', 675, 6.546), ('4389', 269899499, 'FLAT', 'FLAT', 675, 6.546), ('4389', 269899741, 'FLAT', 'FLAT', 675, 16.367), ('4389', 269899873, 'FLAT', 'FLAT', 675, 16.367), ('4389', 269900138, 'FLAT', 'FLAT', 675, 32.734), ('4389', 269900295, 'FLAT', 'FLAT', 675, 32.734), ('4389', 269900591, 'FLAT', 'FLAT', 675, 49.101), ('4389', 269900779, 'FLAT', 'FLAT', 675, 49.101), ('4389', 269901093, 'FLAT', 'FLAT', 675, 65.468), ('4389', 269901286, 'FLAT', 'FLAT', 675, 65.468), ('4389', 269901621, 'FLAT', 'FLAT', 675, 81.835), ('4389', 269901834, 'FLAT', 'FLAT', 675, 81.835), ('4389', 269902185, 'FLAT', 'FLAT', 675, 98.203), ('4389', 269902421, 'FLAT', 'FLAT', 675, 98.203), ('4389', 269902781, 'FLAT', 'FLAT', 675, 104.749), ('4389', 269903020, 'FLAT', 'FLAT', 675, 104.749), ('4389', 269903386, 'FLAT', 'FLAT', 675, 111.296), ('4389', 269903637, 'FLAT', 'FLAT', 675, 111.296), ('4389', 269904021, 'FLAT', 'FLAT', 675, 117.843), ('4389', 269904279, 'FLAT', 'FLAT', 675, 117.843), ('4389', 269904670, 'FLAT', 'FLAT', 675, 130.937), ('4389', 269904946, 'FLAT', 'FLAT', 675, 130.937), ('4389', 269905355, 'FLAT', 'FLAT', 675, 144.031), ('4389', 269905642, 'FLAT', 'FLAT', 675, 144.031), ('4389', 269906074, 'FLAT', 'FLAT', 675, 163.671), ('4389', 269906382, 'FLAT', 'FLAT', 675, 163.671), ('4389', 269897641, 'FLAT', 'BIAS', 675, 0.0), ('4389', 269898025, 'FLAT', 'BIAS', 675, 0.0), ('4389', 269898352, 'FLAT', 'BIAS', 675, 0.0), ('4389', 269898672, 'FLAT', 'BIAS', 675, 0.0), ('4389', 269898990, 'FLAT', 'BIAS', 675, 0.0), ('4389', 269899318, 'FLAT', 'BIAS', 675, 0.0), ('4389', 269899657, 'FLAT', 'BIAS', 675, 0.0), ('4389', 269900034, 'FLAT', 'BIAS', 675, 0.0), ('4389', 269900467, 'FLAT', 'BIAS', 675, 0.0), ('4389', 269900952, 'FLAT', 'BIAS', 675, 0.0), ('4389', 269901461, 'FLAT', 'BIAS', 675, 0.0), ('4389', 269902006, 'FLAT', 'BIAS', 675, 0.0), ('4389', 269902593, 'FLAT', 'BIAS', 675, 0.0), ('4389', 269903193, 'FLAT', 'BIAS', 675, 0.0), ('4389', 269903818, 'FLAT', 'BIAS', 675, 0.0), ('4389', 269904452, 'FLAT', 'BIAS', 675, 0.0), ('4389', 269905122, 'FLAT', 'BIAS', 675, 0.0), ('4389', 269905818, 'FLAT', 'BIAS', 675, 0.0), ('4389', 269908130, 'TRAP', 'BIAS', 550, 0.0), ('4389', 269908156, 'TRAP', 'BIAS', 550, 0.0), ('4389', 269908183, 'TRAP', 'BIAS', 550, 0.0), ('4389', 269908208, 'TRAP', 'BIAS', 550, 0.0), ('4389', 269908234, 'TRAP', 'BIAS', 550, 0.0), ('4389', 269908260, 'TRAP', 'BIAS', 550, 0.0), ('4389', 269908286, 'TRAP', 'BIAS', 550, 0.0), ('4389', 269908311, 'TRAP', 'BIAS', 550, 0.0), ('4389', 269908337, 'TRAP', 'BIAS', 550, 0.0), ('4389', 269908363, 'TRAP', 'BIAS', 550, 0.0), ('4389', 269908389, 'TRAP', 'BIAS', 550, 0.0), ('4389', 269908414, 'TRAP', 'BIAS', 550, 0.0), ('4389', 269908438, 'TRAP', 'BIAS', 550, 0.0), ('4389', 269908465, 'TRAP', 'BIAS', 550, 0.0), ('4389', 269908491, 'TRAP', 'BIAS', 550, 0.0), ('4389', 269908518, 'TRAP', 'BIAS', 550, 0.0), ('4389', 269908546, 'TRAP', 'BIAS', 550, 0.0), ('4389', 269908570, 'TRAP', 'BIAS', 550, 0.0), ('4389', 269908595, 'TRAP', 'BIAS', 550, 0.0), ('4389', 269908621, 'TRAP', 'BIAS', 550, 0.0), ('4389', 269908648, 'TRAP', 'BIAS', 550, 0.0), ('4389', 269908673, 'TRAP', 'BIAS', 550, 0.0), ('4389', 269908698, 'TRAP', 'BIAS', 550, 0.0), ('4389', 269908723, 'TRAP', 'BIAS', 550, 0.0), ('4389', 269908748, 'TRAP', 'BIAS', 550, 0.0), ('4389', 269909049, 'TRAP', 'PPUMP', 550, 200.0), ('4389', 269913326, 'LAMBDA', 'BIAS', 550, 0.0), ('4389', 269913714, 'LAMBDA', 'BIAS', 320, 0.0), ('4389', 269914071, 'LAMBDA', 'BIAS', 330, 0.0), ('4389', 269914418, 'LAMBDA', 'BIAS', 350, 0.0), ('4389', 269914749, 'LAMBDA', 'BIAS', 370, 0.0), ('4389', 269915050, 'LAMBDA', 'BIAS', 400, 0.0), ('4389', 269915353, 'LAMBDA', 'BIAS', 430, 0.0), ('4389', 269915651, 'LAMBDA', 'BIAS', 450, 0.0), ('4389', 269915945, 'LAMBDA', 'BIAS', 470, 0.0), ('4389', 269916250, 'LAMBDA', 'BIAS', 500, 0.0), ('4389', 269916560, 'LAMBDA', 'BIAS', 550, 0.0), ('4389', 269916868, 'LAMBDA', 'BIAS', 570, 0.0), ('4389', 269917173, 'LAMBDA', 'BIAS', 600, 0.0), ('4389', 269917488, 'LAMBDA', 'BIAS', 630, 0.0), ('4389', 269917814, 'LAMBDA', 'BIAS', 650, 0.0), ('4389', 269918132, 'LAMBDA', 'BIAS', 670, 0.0), ('4389', 269918445, 'LAMBDA', 'BIAS', 700, 0.0), ('4389', 269918758, 'LAMBDA', 'BIAS', 720, 0.0), ('4389', 269919073, 'LAMBDA', 'BIAS', 750, 0.0), ('4389', 269919400, 'LAMBDA', 'BIAS', 770, 0.0), ('4389', 269919734, 'LAMBDA', 'BIAS', 800, 0.0), ('4389', 269920049, 'LAMBDA', 'BIAS', 830, 0.0), ('4389', 269920382, 'LAMBDA', 'BIAS', 870, 0.0), ('4389', 269920699, 'LAMBDA', 'BIAS', 900, 0.0), ('4389', 269921000, 'LAMBDA', 'BIAS', 920, 0.0), ('4389', 269921372, 'LAMBDA', 'BIAS', 960, 0.0), ('4389', 269921765, 'LAMBDA', 'BIAS', 1000, 0.0), ('4389', 269922208, 'LAMBDA', 'BIAS', 1030, 0.0), ('4389', 269922647, 'LAMBDA', 'BIAS', 1050, 0.0), ('4389', 269923088, 'LAMBDA', 'BIAS', 1080, 0.0), ('4389', 269913539, 'LAMBDA', 'FLAT', 320, 75.509), ('4389', 269913894, 'LAMBDA', 'FLAT', 330, 45.601), ('4389', 269914231, 'LAMBDA', 'FLAT', 350, 23.478), ('4389', 269914579, 'LAMBDA', 'FLAT', 370, 16.365), ('4389', 269914887, 'LAMBDA', 'FLAT', 400, 11.368), ('4389', 269915193, 'LAMBDA', 'FLAT', 430, 9.677), ('4389', 269915490, 'LAMBDA', 'FLAT', 450, 7.311), ('4389', 269915791, 'LAMBDA', 'FLAT', 470, 6.832), ('4389', 269916091, 'LAMBDA', 'FLAT', 500, 8.637), ('4389', 269916393, 'LAMBDA', 'FLAT', 550, 9.176), ('4389', 269916708, 'LAMBDA', 'FLAT', 570, 9.555), ('4389', 269917008, 'LAMBDA', 'FLAT', 600, 10.803), ('4389', 269917321, 'LAMBDA', 'FLAT', 630, 11.508), ('4389', 269917641, 'LAMBDA', 'FLAT', 650, 12.637), ('4389', 269917963, 'LAMBDA', 'FLAT', 670, 13.525), ('4389', 269918281, 'LAMBDA', 'FLAT', 700, 14.615), ('4389', 269918587, 'LAMBDA', 'FLAT', 720, 16.292), ('4389', 269918907, 'LAMBDA', 'FLAT', 750, 16.833), ('4389', 269919230, 'LAMBDA', 'FLAT', 770, 21.047), ('4389', 269919558, 'LAMBDA', 'FLAT', 800, 24.889), ('4389', 269919881, 'LAMBDA', 'FLAT', 830, 15.112), ('4389', 269920205, 'LAMBDA', 'FLAT', 870, 23.828), ('4389', 269920529, 'LAMBDA', 'FLAT', 900, 15.621), ('4389', 269920839, 'LAMBDA', 'FLAT', 920, 12.676), ('4389', 269921187, 'LAMBDA', 'FLAT', 960, 49.516), ('4389', 269921586, 'LAMBDA', 'FLAT', 1000, 77.896), ('4389', 269922034, 'LAMBDA', 'FLAT', 1030, 120.0), ('4389', 269922473, 'LAMBDA', 'FLAT', 1050, 120.0), ('4389', 269922911, 'LAMBDA', 'FLAT', 1080, 120.0), ('4389', 269923352, 'LAMBDA', 'FLAT', 1100, 120.0), ('4389', 269911289, 'SFLAT_500', 'FLAT', 500, 21.704), ('4389', 269911427, 'SFLAT_500', 'FLAT', 500, 21.704), ('4389', 269911576, 'SFLAT_500', 'FLAT', 500, 21.704), ('4389', 269911712, 'SFLAT_500', 'FLAT', 500, 21.704), ('4389', 269911852, 'SFLAT_500', 'FLAT', 500, 21.704), ('4389', 269911990, 'SFLAT_500', 'FLAT', 500, 21.704), ('4389', 269912129, 'SFLAT_500', 'FLAT', 500, 21.704), ('4389', 269912270, 'SFLAT_500', 'FLAT', 500, 21.704), ('4389', 269912413, 'SFLAT_500', 'FLAT', 500, 21.704), ('4389', 269912550, 'SFLAT_500', 'FLAT', 500, 21.704), ('4389', 269910083, 'SFLAT_500', 'FLAT', 500, 0.434), ('4389', 269910188, 'SFLAT_500', 'FLAT', 500, 0.434), ('4389', 269910291, 'SFLAT_500', 'FLAT', 500, 0.434), ('4389', 269910407, 'SFLAT_500', 'FLAT', 500, 0.434), ('4389', 269910515, 'SFLAT_500', 'FLAT', 500, 0.434), ('4389', 269910629, 'SFLAT_500', 'FLAT', 500, 0.434), ('4389', 269910731, 'SFLAT_500', 'FLAT', 500, 0.434), ('4389', 269910844, 'SFLAT_500', 'FLAT', 500, 0.434), ('4389', 269910958, 'SFLAT_500', 'FLAT', 500, 0.434), ('4389', 269911067, 'SFLAT_500', 'FLAT', 500, 0.434), ('4417', 270016658, 'LAMBDA', 'BIAS', 550, 0.0), ('4417', 270017054, 'LAMBDA', 'BIAS', 320, 0.0), ('4417', 270017414, 'LAMBDA', 'BIAS', 330, 0.0), ('4417', 270017746, 'LAMBDA', 'BIAS', 350, 0.0), ('4417', 270018052, 'LAMBDA', 'BIAS', 370, 0.0), ('4417', 270018347, 'LAMBDA', 'BIAS', 400, 0.0), ('4417', 270018644, 'LAMBDA', 'BIAS', 430, 0.0), ('4417', 270018945, 'LAMBDA', 'BIAS', 450, 0.0), ('4417', 270019244, 'LAMBDA', 'BIAS', 470, 0.0), ('4417', 270019542, 'LAMBDA', 'BIAS', 500, 0.0), ('4417', 270019841, 'LAMBDA', 'BIAS', 550, 0.0), ('4417', 270020145, 'LAMBDA', 'BIAS', 570, 0.0), ('4417', 270020447, 'LAMBDA', 'BIAS', 600, 0.0), ('4417', 270020756, 'LAMBDA', 'BIAS', 630, 0.0), ('4417', 270021070, 'LAMBDA', 'BIAS', 650, 0.0), ('4417', 270021374, 'LAMBDA', 'BIAS', 670, 0.0), ('4417', 270021681, 'LAMBDA', 'BIAS', 700, 0.0), ('4417', 270021999, 'LAMBDA', 'BIAS', 720, 0.0), ('4417', 270022313, 'LAMBDA', 'BIAS', 750, 0.0), ('4417', 270022632, 'LAMBDA', 'BIAS', 770, 0.0), ('4417', 270022957, 'LAMBDA', 'BIAS', 800, 0.0), ('4417', 270023270, 'LAMBDA', 'BIAS', 830, 0.0), ('4417', 270023593, 'LAMBDA', 'BIAS', 870, 0.0), ('4417', 270023906, 'LAMBDA', 'BIAS', 900, 0.0), ('4417', 270024215, 'LAMBDA', 'BIAS', 920, 0.0), ('4417', 270024572, 'LAMBDA', 'BIAS', 960, 0.0), ('4417', 270024964, 'LAMBDA', 'BIAS', 1000, 0.0), ('4417', 270025400, 'LAMBDA', 'BIAS', 1030, 0.0), ('4417', 270025836, 'LAMBDA', 'BIAS', 1050, 0.0), ('4417', 270026274, 'LAMBDA', 'BIAS', 1080, 0.0), ('4417', 270016874, 'LAMBDA', 'FLAT', 320, 75.778), ('4417', 270017235, 'LAMBDA', 'FLAT', 330, 45.752), ('4417', 270017569, 'LAMBDA', 'FLAT', 350, 23.552), ('4417', 270017892, 'LAMBDA', 'FLAT', 370, 16.417), ('4417', 270018189, 'LAMBDA', 'FLAT', 400, 11.354), ('4417', 270018485, 'LAMBDA', 'FLAT', 430, 9.718), ('4417', 270018780, 'LAMBDA', 'FLAT', 450, 7.329), ('4417', 270019079, 'LAMBDA', 'FLAT', 470, 6.875), ('4417', 270019380, 'LAMBDA', 'FLAT', 500, 8.72), ('4417', 270019683, 'LAMBDA', 'FLAT', 550, 9.256), ('4417', 270019981, 'LAMBDA', 'FLAT', 570, 9.615), ('4417', 270020285, 'LAMBDA', 'FLAT', 600, 10.871), ('4417', 270020588, 'LAMBDA', 'FLAT', 630, 11.506), ('4417', 270020898, 'LAMBDA', 'FLAT', 650, 12.738), ('4417', 270021212, 'LAMBDA', 'FLAT', 670, 13.571), ('4417', 270021516, 'LAMBDA', 'FLAT', 700, 14.647), ('4417', 270021830, 'LAMBDA', 'FLAT', 720, 16.316), ('4417', 270022148, 'LAMBDA', 'FLAT', 750, 16.966), ('4417', 270022466, 'LAMBDA', 'FLAT', 770, 21.161), ('4417', 270022788, 'LAMBDA', 'FLAT', 800, 25.036), ('4417', 270023103, 'LAMBDA', 'FLAT', 830, 15.115), ('4417', 270023424, 'LAMBDA', 'FLAT', 870, 23.887), ('4417', 270023737, 'LAMBDA', 'FLAT', 900, 15.784), ('4417', 270024045, 'LAMBDA', 'FLAT', 920, 12.673), ('4417', 270024397, 'LAMBDA', 'FLAT', 960, 49.554), ('4417', 270024788, 'LAMBDA', 'FLAT', 1000, 77.638), ('4417', 270025227, 'LAMBDA', 'FLAT', 1030, 120.0), ('4417', 270025663, 'LAMBDA', 'FLAT', 1050, 120.0), ('4417', 270026100, 'LAMBDA', 'FLAT', 1080, 120.0), ('4417', 270026538, 'LAMBDA', 'FLAT', 1100, 120.0)]\n"
     ]
    }
   ],
   "source": [
    "print(\"Available visits: %s\" % (\"\".join(str(butler.queryMetadata('raw', ['run','visit','testType','imageType','wavelength','exptime']))))) "
   ]
  },
  {
   "cell_type": "markdown",
   "metadata": {},
   "source": [
    "Not sure which are Fe55 exposures...  From the sqlite3 table raw (and raw_visit), we can find:\n",
    "run\n",
    "basename\n",
    "object\n",
    "visit\n",
    "dateObs\n",
    "filter\n",
    "field\n",
    "ccd\n",
    "lsstSerial\n",
    "raft\n",
    "testType\n",
    "expTime\n",
    "imageType\n",
    "\n",
    "Apparently for Fe55, we have testType='FE55', there are 5x (BIAS and DARK) imageTypes"
   ]
  },
  {
   "cell_type": "code",
   "execution_count": 5,
   "metadata": {},
   "outputs": [
    {
     "name": "stdout",
     "output_type": "stream",
     "text": [
      "[269892754, 269893006, 269893257, 269893506, 269893758]\n",
      "[57895.92754, 57895.93006, 57895.93257, 57895.93506, 57895.93758]\n",
      "[269892434, 269892463, 269892490, 269892518, 269892546]\n",
      "[57895.92434, 57895.92463, 57895.9249, 57895.92518, 57895.92546]\n"
     ]
    }
   ],
   "source": [
    "fe55_visits=butler.queryMetadata('raw', ['visit'],{'run':4389,'testType':'FE55','imageType':'FE55'})  # to get a list of fe55 visits in run 4389\n",
    "bias_visits=butler.queryMetadata('raw', ['visit'],{'run':4389,'testType':'FE55','imageType':'BIAS'})  # to get a list of bias fe55 visits in run 4389\n",
    "fe55_mjds=[(float(fe55_visit)*1e-5)+55197 for fe55_visit in fe55_visits]  # calulate the MJD time for each visit\n",
    "bias_mjds=[(float(bias_visit)*1e-5)+55197 for bias_visit in bias_visits]  # calulate the MJD time for each visit\n",
    "print(fe55_visits)\n",
    "print(fe55_mjds)\n",
    "print(bias_visits)\n",
    "print(bias_mjds)"
   ]
  },
  {
   "cell_type": "markdown",
   "metadata": {},
   "source": [
    "So all 5 bias exposures were taken prior to the fe55 exposures."
   ]
  },
  {
   "cell_type": "code",
   "execution_count": 6,
   "metadata": {},
   "outputs": [],
   "source": [
    "dataId=dict(visit=fe55_visits[0],ccd='S11')\n",
    "fe55=butler.get('raw',dataId)"
   ]
  },
  {
   "cell_type": "code",
   "execution_count": 7,
   "metadata": {},
   "outputs": [],
   "source": [
    "camera = butler.get(\"camera\")"
   ]
  },
  {
   "cell_type": "code",
   "execution_count": 8,
   "metadata": {},
   "outputs": [
    {
     "data": {
      "image/png": "[encoded data removed]",
      "text/plain": [
       "<Figure size 432x288 with 1 Axes>"
      ]
     },
     "metadata": {},
     "output_type": "display_data"
    }
   ],
   "source": [
    "disp = afwDisplay.Display(1)\n",
    "disp.scale('asinh', 'zscale')\n",
    "\n",
    "dataType = \"raw\"\n",
    "imageType = \"Fe55\"\n",
    "mos = cameraGeomUtils.showCamera(camera,\n",
    "                                 cameraGeomUtils.ButlerImage(butler, dataType, visit=dataId[\"visit\"],\n",
    "                                                             callback=cameraGeomUtils.rawCallback),\n",
    "                                 binSize=32, display=disp, title=\"%d %s\" % (dataId[\"visit\"], imageType))"
   ]
  },
  {
   "cell_type": "markdown",
   "metadata": {},
   "source": [
    "we're going to use the eotest psf fitter"
   ]
  },
  {
   "cell_type": "code",
   "execution_count": 9,
   "metadata": {},
   "outputs": [],
   "source": [
    "import lsst.eotest.sensor as sensorTest\n",
    "import lsst.eotest.image_utils as imutils\n",
    "import lsst.afw.image as afwImage\n"
   ]
  },
  {
   "cell_type": "code",
   "execution_count": 10,
   "metadata": {},
   "outputs": [
    {
     "name": "stdout",
     "output_type": "stream",
     "text": [
      "processing 269892754\n",
      "['Factory', '__class__', '__delattr__', '__dir__', '__doc__', '__eq__', '__format__', '__ge__', '__getattribute__', '__getitem__', '__gt__', '__hash__', '__iadd__', '__ilshift__', '__imul__', '__init__', '__init_subclass__', '__isub__', '__itruediv__', '__le__', '__lt__', '__module__', '__ne__', '__new__', '__reduce__', '__reduce_ex__', '__repr__', '__setattr__', '__setitem__', '__sizeof__', '__str__', '__subclasshook__', '_get', '_set', 'assign', 'census', 'clone', 'convertD', 'convertF', 'dtype', 'getArrays', 'getBBox', 'getDimensions', 'getHeight', 'getId', 'getImage', 'getMask', 'getNextMemId', 'getVariance', 'getWidth', 'getX0', 'getXY0', 'getY0', 'image', 'indexToPosition', 'markPersistent', 'mask', 'positionToIndex', 'readFits', 'repr', 'scaledDivides', 'scaledMinus', 'scaledMultiplies', 'scaledPlus', 'set', 'setDeleteCallbackId', 'setImage', 'setMask', 'setNewCallbackId', 'setVariance', 'setXY0', 'subset', 'swap', 'variance', 'writeFits']\n"
     ]
    },
    {
     "ename": "AttributeError",
     "evalue": "'lsst.afw.image.maskedImage.maskedImage.MaskedImage' object has no attribute 'bias_subtracted_image'",
     "output_type": "error",
     "traceback": [
      "\u001b[0;31m---------------------------------------------------------------------------\u001b[0m",
      "\u001b[0;31mAttributeError\u001b[0m                            Traceback (most recent call last)",
      "\u001b[0;32m<ipython-input-10-08ae74402f01>\u001b[0m in \u001b[0;36m<module>\u001b[0;34m()\u001b[0m\n\u001b[1;32m     15\u001b[0m     \u001b[0;31m# Masks can be specified by a non-empty tuple of mask_files.\u001b[0m\u001b[0;34m\u001b[0m\u001b[0;34m\u001b[0m\u001b[0m\n\u001b[1;32m     16\u001b[0m     \u001b[0;31m#\u001b[0m\u001b[0;34m\u001b[0m\u001b[0;34m\u001b[0m\u001b[0m\n\u001b[0;32m---> 17\u001b[0;31m     \u001b[0mfitter\u001b[0m\u001b[0;34m.\u001b[0m\u001b[0mprocess_image\u001b[0m\u001b[0;34m(\u001b[0m\u001b[0mfe55image\u001b[0m\u001b[0;34m,\u001b[0m \u001b[0mamp\u001b[0m\u001b[0;34m)\u001b[0m\u001b[0;34m\u001b[0m\u001b[0m\n\u001b[0m\u001b[1;32m     18\u001b[0m \u001b[0;31m#fitter.write_results('psf_results.fits')\u001b[0m\u001b[0;34m\u001b[0m\u001b[0;34m\u001b[0m\u001b[0m\n",
      "\u001b[0;32m~/notebooks/local_ups_db/ups_db/eotest/python/lsst/eotest/sensor/fe55_psf.py\u001b[0m in \u001b[0;36mprocess_image\u001b[0;34m(self, ccd, amp, sigma0, dn0, bg_reg, logger, oscan_fit_order)\u001b[0m\n\u001b[1;32m    137\u001b[0m         \"\"\"\n\u001b[1;32m    138\u001b[0m         \u001b[0;32mtry\u001b[0m\u001b[0;34m:\u001b[0m\u001b[0;34m\u001b[0m\u001b[0m\n\u001b[0;32m--> 139\u001b[0;31m             \u001b[0mimage\u001b[0m \u001b[0;34m=\u001b[0m \u001b[0mccd\u001b[0m\u001b[0;34m.\u001b[0m\u001b[0mbias_subtracted_image\u001b[0m\u001b[0;34m(\u001b[0m\u001b[0mamp\u001b[0m\u001b[0;34m,\u001b[0m \u001b[0mfit_order\u001b[0m\u001b[0;34m=\u001b[0m\u001b[0moscan_fit_order\u001b[0m\u001b[0;34m)\u001b[0m\u001b[0;34m\u001b[0m\u001b[0m\n\u001b[0m\u001b[1;32m    140\u001b[0m         \u001b[0;32mexcept\u001b[0m \u001b[0mMaskedCCDBiasImageException\u001b[0m\u001b[0;34m:\u001b[0m\u001b[0;34m\u001b[0m\u001b[0m\n\u001b[1;32m    141\u001b[0m             \u001b[0mprint\u001b[0m\u001b[0;34m(\u001b[0m\u001b[0;34m\"DM stack error encountered when generating bias image \"\u001b[0m\u001b[0;34m)\u001b[0m\u001b[0;34m\u001b[0m\u001b[0m\n",
      "\u001b[0;31mAttributeError\u001b[0m: 'lsst.afw.image.maskedImage.maskedImage.MaskedImage' object has no attribute 'bias_subtracted_image'"
     ]
    }
   ],
   "source": [
    "fitter = sensorTest.PsfGaussFit(nsig=2)\n",
    "amp=0\n",
    "\n",
    "for visit in fe55_visits:\n",
    "    print(\"processing\", visit)\n",
    "    dataId=dict(visit=fe55_visits[0],ccd='S11')\n",
    "    fe55=butler.get('raw',dataId).getMaskedImage()\n",
    "    bbox=fe55.getBBox()\n",
    "    fe55image = fe55.Factory(fe55, bbox, afwImage.LOCAL)\n",
    "\n",
    "    print(dir(fe55image))\n",
    "#    fe55image=fe55.image.array\n",
    "    #\n",
    "    # MaskedCCD is the principal data structure for the eotest package.\n",
    "    # Masks can be specified by a non-empty tuple of mask_files.\n",
    "    # \n",
    "    fitter.process_image(fe55image, amp)\n",
    "#fitter.write_results('psf_results.fits')\n"
   ]
  },
  {
   "cell_type": "code",
   "execution_count": null,
   "metadata": {},
   "outputs": [],
   "source": []
  }
 ],
 "metadata": {
  "kernelspec": {
   "display_name": "LSST",
   "language": "python",
   "name": "lsst"
  },
  "language_info": {
   "codemirror_mode": {
    "name": "ipython",
    "version": 3
   },
   "file_extension": ".py",
   "mimetype": "text/x-python",
   "name": "python",
   "nbconvert_exporter": "python",
   "pygments_lexer": "ipython3",
   "version": "3.6.2"
  }
 },
 "nbformat": 4,
 "nbformat_minor": 2
}
