{
 "cells": [
  {
   "cell_type": "code",
   "execution_count": 2,
   "metadata": {},
   "outputs": [],
   "source": [
    "import asyncio\n",
    "import logging\n",
    "import sys\n",
    "import os\n",
    "\n",
    "from astropy.coordinates import Angle\n",
    "from astropy.time import Time\n",
    "import astropy.units as u\n",
    "\n",
    "from lsst.ts import salobj\n",
    "from lsst.ts.observatory.control.maintel.mtcs import MTCS\n",
    "from lsst.ts.observatory.control.maintel.comcam import ComCam\n",
    "\n",
    "#import mt_utils"
   ]
  },
  {
   "cell_type": "code",
   "execution_count": 3,
   "metadata": {},
   "outputs": [
    {
     "name": "stdout",
     "output_type": "stream",
     "text": [
      "file:///home/bstalder/ts_ddsconfig/config/ospl-sp.xml\n"
     ]
    }
   ],
   "source": [
    "print(os.environ[\"OSPL_URI\"])"
   ]
  },
  {
   "cell_type": "code",
   "execution_count": 4,
   "metadata": {},
   "outputs": [],
   "source": [
    "os.environ[\"OSPL_URI\"]=\"file:///home/bstalder/ts_ddsconfig/config/ospl-sp.xml\"\n",
    "os.environ[\"LSST_DDS_RESPONSIVENESS_TIMEOUT\"]=\"15s\""
   ]
  },
  {
   "cell_type": "code",
   "execution_count": 5,
   "metadata": {},
   "outputs": [],
   "source": [
    "stream_handler = logging.StreamHandler(sys.stdout)\n",
    "\n",
    "logger = logging.getLogger()\n",
    "logger.addHandler(stream_handler)\n",
    "logger.level = logging.DEBUG"
   ]
  },
  {
   "cell_type": "code",
   "execution_count": 6,
   "metadata": {},
   "outputs": [
    {
     "name": "stdout",
     "output_type": "stream",
     "text": [
      "cccamera: Adding all resources.\n",
      "ccheaderservice: Adding all resources.\n",
      "ccarchiver: Adding all resources.\n",
      "Read historical data in 0.07 sec\n",
      "Read 1 history items for RemoteEvent(CCArchiver, 0, authList)\n",
      "Read 2 history items for RemoteEvent(CCArchiver, 0, errorCode)\n",
      "Read 100 history items for RemoteEvent(CCArchiver, 0, heartbeat)\n",
      "Read 100 history items for RemoteEvent(CCArchiver, 0, imageInOODS)\n",
      "Read 100 history items for RemoteEvent(CCArchiver, 0, imageRetrievalForArchiving)\n",
      "Read 1 history items for RemoteEvent(CCArchiver, 0, logLevel)\n",
      "Read 1 history items for RemoteEvent(CCArchiver, 0, logMessage)\n",
      "Read 1 history items for RemoteEvent(CCArchiver, 0, simulationMode)\n",
      "Read 1 history items for RemoteEvent(CCArchiver, 0, softwareVersions)\n",
      "Read 51 history items for RemoteEvent(CCArchiver, 0, summaryState)\n",
      "Read historical data in 0.11 sec\n",
      "Read 1 history items for RemoteEvent(CCHeaderService, 0, authList)\n",
      "Read 100 history items for RemoteEvent(CCHeaderService, 0, heartbeat)\n",
      "Read 100 history items for RemoteEvent(CCHeaderService, 0, largeFileObjectAvailable)\n",
      "Read 1 history items for RemoteEvent(CCHeaderService, 0, logLevel)\n",
      "Read 100 history items for RemoteEvent(CCHeaderService, 0, logMessage)\n",
      "Read 1 history items for RemoteEvent(CCHeaderService, 0, simulationMode)\n",
      "Read 1 history items for RemoteEvent(CCHeaderService, 0, softwareVersions)\n",
      "Read 45 history items for RemoteEvent(CCHeaderService, 0, summaryState)\n",
      "Read historical data in 0.13 sec\n",
      "Read historical data in 0.13 sec\n",
      "Read 1 history items for RemoteEvent(MTPtg, 0, airmassWarning)\n",
      "Read 1 history items for RemoteEvent(MTPtg, 0, azWrapWarning)\n",
      "Read 1 history items for RemoteEvent(MTPtg, 0, currentDebugLevel)\n",
      "Read 1 history items for RemoteEvent(MTPtg, 0, detailedState)\n",
      "Read 1 history items for RemoteEvent(MTPtg, 0, elLimitWarning)\n",
      "Read 1 history items for RemoteEvent(MTPtg, 0, errorCode)\n",
      "Read 100 history items for RemoteEvent(MTPtg, 0, heartbeat)\n",
      "Read 1 history items for RemoteEvent(MTPtg, 0, iersOutOfDate)\n",
      "Read 1 history items for RemoteEvent(MTPtg, 0, moonProximityWarning)\n",
      "Read 1 history items for RemoteEvent(MTPtg, 0, mountDataWarning)\n",
      "Read 1 history items for RemoteEvent(MTPtg, 0, objectSetWarning)\n",
      "Read 1 history items for RemoteEvent(MTPtg, 0, pointing_file)\n",
      "Read 1 history items for RemoteEvent(MTPtg, 0, rotWrapWarning)\n",
      "Read 1 history items for RemoteEvent(MTPtg, 0, summaryState)\n",
      "Read 1 history items for RemoteEvent(MTPtg, 0, sunProximityWarning)\n",
      "Read 1 history items for RemoteEvent(MTPtg, 0, trackPosting)\n",
      "Read 1 history items for RemoteEvent(MTPtg, 0, weatherDataInvalid)\n",
      "Read historical data in 0.15 sec\n",
      "Read 1 history items for RemoteEvent(CCCamera, 0, appliedSettingsMatchStart)\n",
      "Read 1 history items for RemoteEvent(CCCamera, 0, availableFilters)\n",
      "Read 51 history items for RemoteEvent(CCCamera, 0, ccsCommandState)\n",
      "Read 20 history items for RemoteEvent(CCCamera, 0, endOfImageTelemetry)\n",
      "Read 20 history items for RemoteEvent(CCCamera, 0, endReadout)\n",
      "Read 5 history items for RemoteEvent(CCCamera, 0, focalPlaneHardwareIdSettingsApplied)\n",
      "Read 5 history items for RemoteEvent(CCCamera, 0, focalPlaneSummaryInfo)\n",
      "Read 100 history items for RemoteEvent(CCCamera, 0, heartbeat)\n",
      "Read 60 history items for RemoteEvent(CCCamera, 0, imageReadinessDetailedState)\n",
      "Read 20 history items for RemoteEvent(CCCamera, 0, imageReadoutParameters)\n",
      "Read 2 history items for RemoteEvent(CCCamera, 0, offlineDetailedState)\n",
      "Read 100 history items for RemoteEvent(CCCamera, 0, raftsDetailedState)\n",
      "Read 2 history items for RemoteEvent(CCCamera, 0, settingVersions)\n",
      "Read 1 history items for RemoteEvent(CCCamera, 0, settingsApplied)\n",
      "Read 2 history items for RemoteEvent(CCCamera, 0, softwareVersions)\n",
      "Read 20 history items for RemoteEvent(CCCamera, 0, startIntegration)\n",
      "Read 20 history items for RemoteEvent(CCCamera, 0, startReadout)\n",
      "Read 6 history items for RemoteEvent(CCCamera, 0, summaryState)\n"
     ]
    },
    {
     "data": {
      "text/plain": [
       "[[None, None, None], None, None]"
      ]
     },
     "execution_count": 6,
     "metadata": {},
     "output_type": "execute_result"
    }
   ],
   "source": [
    "domain = salobj.Domain()\n",
    "\n",
    "await asyncio.sleep(10)\n",
    "\n",
    "#mtcs = MTCS(domain)\n",
    "comcam = ComCam(domain)\n",
    "mtptg = salobj.Remote(domain, \"MTPtg\")\n",
    "newmtmount = salobj.Remote(domain, \"NewMTMount\")\n",
    "\n",
    "#await asyncio.gather(mtcs.start_task, comcam.start_task)\n",
    "await asyncio.gather(comcam.start_task, mtptg.start_task, newmtmount.start_task)"
   ]
  },
  {
   "cell_type": "code",
   "execution_count": 7,
   "metadata": {},
   "outputs": [
    {
     "name": "stdout",
     "output_type": "stream",
     "text": [
      "Enabling all components\n",
      "Gathering settings.\n",
      "Received settings from users.: {'cccamera': 'Normal', 'ccarchiver': 'normal', 'ccheaderservice': None}\n",
      "Settings versions: {'cccamera': 'Normal', 'ccarchiver': 'normal', 'ccheaderservice': None}\n",
      "[cccamera]::[<State.STANDBY: 5>, <State.DISABLED: 1>, <State.ENABLED: 2>]\n",
      "[ccheaderservice]::[<State.STANDBY: 5>, <State.DISABLED: 1>, <State.ENABLED: 2>]\n",
      "[ccarchiver]::[<State.STANDBY: 5>, <State.DISABLED: 1>, <State.ENABLED: 2>]\n",
      "All components in <State.ENABLED: 2>.\n"
     ]
    }
   ],
   "source": [
    "await comcam.enable(settings={\"cccamera\": \"Normal\",\n",
    "                              \"ccarchiver\": \"normal\",\n",
    "                              \"ccheaderservice\": None})"
   ]
  },
  {
   "cell_type": "code",
   "execution_count": 8,
   "metadata": {},
   "outputs": [
    {
     "name": "stdout",
     "output_type": "stream",
     "text": [
      "CALSET_20210119_1842\n"
     ]
    }
   ],
   "source": [
    "date = Time.now()\n",
    "group_id = f'CALSET_{date.tai.strftime(\"%Y%m%d_%H%M\")}'\n",
    "#group_id = \"CALSET_20200914_1449\"\n",
    "print(group_id)"
   ]
  },
  {
   "cell_type": "code",
   "execution_count": null,
   "metadata": {},
   "outputs": [],
   "source": [
    "#for testing L3 condensation\n",
    "await comcam.take_flats(exptime=5.0, nflats=1, group_id=group_id, note=\"test\")"
   ]
  },
  {
   "cell_type": "code",
   "execution_count": 9,
   "metadata": {},
   "outputs": [
    {
     "name": "stdout",
     "output_type": "stream",
     "text": [
      "BIAS 0001 - 0010\n",
      "BIAS 0002 - 0010\n",
      "BIAS 0003 - 0010\n",
      "BIAS 0004 - 0010\n",
      "BIAS 0005 - 0010\n",
      "BIAS 0006 - 0010\n",
      "BIAS 0007 - 0010\n",
      "BIAS 0008 - 0010\n",
      "BIAS 0009 - 0010\n",
      "BIAS 0010 - 0010\n"
     ]
    },
    {
     "data": {
      "text/plain": [
       "array([2021011900001, 2021011900002, 2021011900003, 2021011900004,\n",
       "       2021011900005, 2021011900006, 2021011900007, 2021011900008,\n",
       "       2021011900009, 2021011900010])"
      ]
     },
     "execution_count": 9,
     "metadata": {},
     "output_type": "execute_result"
    }
   ],
   "source": [
    "await comcam.take_bias(nbias=10, group_id=group_id, note=\"standardCal\")"
   ]
  },
  {
   "cell_type": "code",
   "execution_count": 10,
   "metadata": {},
   "outputs": [
    {
     "name": "stdout",
     "output_type": "stream",
     "text": [
      "DARK 0001 - 0010\n",
      "DARK 0002 - 0010\n",
      "DARK 0003 - 0010\n",
      "DARK 0004 - 0010\n",
      "DARK 0005 - 0010\n",
      "DARK 0006 - 0010\n",
      "logMessage DDS read queue is filling: 22 of 100 elements\n",
      "DARK 0007 - 0010\n",
      "DARK 0008 - 0010\n",
      "DARK 0009 - 0010\n",
      "DARK 0010 - 0010\n"
     ]
    },
    {
     "data": {
      "text/plain": [
       "array([2021011900011, 2021011900012, 2021011900013, 2021011900014,\n",
       "       2021011900015, 2021011900016, 2021011900017, 2021011900018,\n",
       "       2021011900019, 2021011900020])"
      ]
     },
     "execution_count": 10,
     "metadata": {},
     "output_type": "execute_result"
    }
   ],
   "source": [
    "await comcam.take_darks(exptime=100.0, ndarks=10, group_id=group_id, note=\"standardCal\")"
   ]
  },
  {
   "cell_type": "code",
   "execution_count": null,
   "metadata": {},
   "outputs": [],
   "source": [
    "await comcam.take_flats(exptime=5.0, nflats=10, group_id=group_id, note=\"standardCal\")"
   ]
  },
  {
   "cell_type": "code",
   "execution_count": null,
   "metadata": {},
   "outputs": [],
   "source": [
    "# FOR PTC run\n",
    "await comcam.take_bias(nbias=5, group_id=group_id, note=\"PTC\")\n",
    "await comcam.take_flats(exptime=1.0, nflats=2, group_id=group_id, note=\"PTC\")\n",
    "await comcam.take_flats(exptime=2.0, nflats=2, group_id=group_id, note=\"PTC\")\n",
    "await comcam.take_flats(exptime=4.0, nflats=2, group_id=group_id, note=\"PTC\")\n",
    "await comcam.take_flats(exptime=6.0, nflats=2, group_id=group_id, note=\"PTC\")\n",
    "await comcam.take_flats(exptime=8.0, nflats=2, group_id=group_id, note=\"PTC\")\n",
    "await comcam.take_flats(exptime=10.0, nflats=2, group_id=group_id, note=\"PTC\")\n",
    "await comcam.take_flats(exptime=15.0, nflats=2, group_id=group_id, note=\"PTC\")\n",
    "await comcam.take_flats(exptime=20.0, nflats=2, group_id=group_id, note=\"PTC\")\n",
    "await comcam.take_flats(exptime=30.0, nflats=2, group_id=group_id, note=\"PTC\")\n",
    "await comcam.take_flats(exptime=45.0, nflats=2, group_id=group_id, note=\"PTC\")\n",
    "await comcam.take_bias(nbias=5, group_id=group_id, note=\"PTC\")"
   ]
  },
  {
   "cell_type": "code",
   "execution_count": 11,
   "metadata": {},
   "outputs": [
    {
     "name": "stdout",
     "output_type": "stream",
     "text": [
      "[cccamera]::[<State.ENABLED: 2>, <State.DISABLED: 1>, <State.STANDBY: 5>]\n",
      "[ccheaderservice]::[<State.ENABLED: 2>, <State.DISABLED: 1>, <State.STANDBY: 5>]\n",
      "[ccarchiver]::[<State.ENABLED: 2>, <State.DISABLED: 1>, <State.STANDBY: 5>]\n",
      "All components in <State.STANDBY: 5>.\n"
     ]
    }
   ],
   "source": [
    "await comcam.standby()"
   ]
  },
  {
   "cell_type": "code",
   "execution_count": 12,
   "metadata": {},
   "outputs": [],
   "source": [
    "await domain.close()"
   ]
  },
  {
   "cell_type": "code",
   "execution_count": null,
   "metadata": {},
   "outputs": [],
   "source": []
  }
 ],
 "metadata": {
  "kernelspec": {
   "display_name": "LSST",
   "language": "python",
   "name": "lsst"
  },
  "language_info": {
   "codemirror_mode": {
    "name": "ipython",
    "version": 3
   },
   "file_extension": ".py",
   "mimetype": "text/x-python",
   "name": "python",
   "nbconvert_exporter": "python",
   "pygments_lexer": "ipython3",
   "version": "3.7.8"
  }
 },
 "nbformat": 4,
 "nbformat_minor": 4
}
