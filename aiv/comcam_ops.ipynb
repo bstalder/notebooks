{
 "cells": [
  {
   "cell_type": "code",
   "execution_count": 2,
   "metadata": {},
   "outputs": [],
   "source": [
    "import asyncio\n",
    "import logging\n",
    "import sys\n",
    "import os\n",
    "\n",
    "from astropy.coordinates import Angle\n",
    "from astropy.time import Time\n",
    "import astropy.units as u\n",
    "\n",
    "from lsst.ts import salobj\n",
    "from lsst.ts.observatory.control.maintel.mtcs import MTCS\n",
    "from lsst.ts.observatory.control.maintel.comcam import ComCam\n",
    "\n",
    "#import mt_utils"
   ]
  },
  {
   "cell_type": "code",
   "execution_count": 3,
   "metadata": {},
   "outputs": [
    {
     "name": "stdout",
     "output_type": "stream",
     "text": [
      "file:///opt/lsst/src/ts_ddsconfig/config/ospl-shmem-debug.xml\n"
     ]
    }
   ],
   "source": [
    "print(os.environ[\"OSPL_URI\"])"
   ]
  },
  {
   "cell_type": "code",
   "execution_count": 4,
   "metadata": {},
   "outputs": [],
   "source": [
    "#os.environ[\"OSPL_URI\"]=\"file:///home/bstalder/ts_ddsconfig/config/ospl-sp.xml\"\n",
    "os.environ[\"LSST_DDS_RESPONSIVENESS_TIMEOUT\"]=\"15s\""
   ]
  },
  {
   "cell_type": "code",
   "execution_count": 5,
   "metadata": {},
   "outputs": [],
   "source": [
    "stream_handler = logging.StreamHandler(sys.stdout)\n",
    "\n",
    "logger = logging.getLogger()\n",
    "logger.addHandler(stream_handler)\n",
    "logger.level = logging.DEBUG"
   ]
  },
  {
   "cell_type": "code",
   "execution_count": 6,
   "metadata": {},
   "outputs": [
    {
     "name": "stdout",
     "output_type": "stream",
     "text": [
      "cccamera: Adding all resources.\n",
      "ccheaderservice: Adding all resources.\n",
      "ccarchiver: Adding all resources.\n",
      "Read historical data in 0.00 sec\n",
      "Read 1 history items for RemoteEvent(CCHeaderService, 0, authList)\n",
      "Read 100 history items for RemoteEvent(CCHeaderService, 0, heartbeat)\n",
      "Read 50 history items for RemoteEvent(CCHeaderService, 0, largeFileObjectAvailable)\n",
      "Read 1 history items for RemoteEvent(CCHeaderService, 0, logLevel)\n",
      "Read 100 history items for RemoteEvent(CCHeaderService, 0, logMessage)\n",
      "Read 1 history items for RemoteEvent(CCHeaderService, 0, simulationMode)\n",
      "Read 1 history items for RemoteEvent(CCHeaderService, 0, softwareVersions)\n",
      "Read 11 history items for RemoteEvent(CCHeaderService, 0, summaryState)\n",
      "Read historical data in 0.03 sec\n",
      "Read 1 history items for RemoteEvent(CCArchiver, 0, authList)\n",
      "Read 100 history items for RemoteEvent(CCArchiver, 0, heartbeat)\n",
      "Read 100 history items for RemoteEvent(CCArchiver, 0, imageInOODS)\n",
      "Read 100 history items for RemoteEvent(CCArchiver, 0, imageRetrievalForArchiving)\n",
      "Read 1 history items for RemoteEvent(CCArchiver, 0, logLevel)\n",
      "Read 1 history items for RemoteEvent(CCArchiver, 0, logMessage)\n",
      "Read 1 history items for RemoteEvent(CCArchiver, 0, simulationMode)\n",
      "Read 1 history items for RemoteEvent(CCArchiver, 0, softwareVersions)\n",
      "Read 15 history items for RemoteEvent(CCArchiver, 0, summaryState)\n",
      "Read historical data in 0.05 sec\n",
      "Read 2 history items for RemoteEvent(CCCamera, 0, appliedSettingsMatchStart)\n",
      "Read 2 history items for RemoteEvent(CCCamera, 0, availableFilters)\n",
      "Read 100 history items for RemoteEvent(CCCamera, 0, ccsCommandState)\n",
      "Read 7 history items for RemoteEvent(CCCamera, 0, endLoadFilter)\n",
      "Read 44 history items for RemoteEvent(CCCamera, 0, endOfImageTelemetry)\n",
      "Read 44 history items for RemoteEvent(CCCamera, 0, endReadout)\n",
      "Read 8 history items for RemoteEvent(CCCamera, 0, endSetFilter)\n",
      "Read 23 history items for RemoteEvent(CCCamera, 0, endShutterClose)\n",
      "Read 22 history items for RemoteEvent(CCCamera, 0, endShutterOpen)\n",
      "Read 14 history items for RemoteEvent(CCCamera, 0, filterChangerDetailedState)\n",
      "Read 96 history items for RemoteEvent(CCCamera, 0, focalPlaneHardwareIdSettingsApplied)\n",
      "Read 96 history items for RemoteEvent(CCCamera, 0, focalPlaneSummaryInfo)\n",
      "Read 100 history items for RemoteEvent(CCCamera, 0, heartbeat)\n",
      "Read 100 history items for RemoteEvent(CCCamera, 0, imageReadinessDetailedState)\n",
      "Read 45 history items for RemoteEvent(CCCamera, 0, imageReadoutParameters)\n",
      "Read 2 history items for RemoteEvent(CCCamera, 0, offlineDetailedState)\n",
      "Read 100 history items for RemoteEvent(CCCamera, 0, raftsDetailedState)\n",
      "Read 2 history items for RemoteEvent(CCCamera, 0, settingVersions)\n",
      "Read 2 history items for RemoteEvent(CCCamera, 0, settingsApplied)\n",
      "Read 46 history items for RemoteEvent(CCCamera, 0, shutterDetailedState)\n",
      "Read 2 history items for RemoteEvent(CCCamera, 0, softwareVersions)\n",
      "Read 44 history items for RemoteEvent(CCCamera, 0, startIntegration)\n",
      "Read 6 history items for RemoteEvent(CCCamera, 0, startLoadFilter)\n",
      "Read 45 history items for RemoteEvent(CCCamera, 0, startReadout)\n",
      "Read 7 history items for RemoteEvent(CCCamera, 0, startSetFilter)\n",
      "Read 8 history items for RemoteEvent(CCCamera, 0, summaryState)\n"
     ]
    },
    {
     "data": {
      "text/plain": [
       "[[None, None, None]]"
      ]
     },
     "execution_count": 6,
     "metadata": {},
     "output_type": "execute_result"
    }
   ],
   "source": [
    "domain = salobj.Domain()\n",
    "\n",
    "await asyncio.sleep(10)\n",
    "\n",
    "#mtcs = MTCS(domain)\n",
    "comcam = ComCam(domain)\n",
    "#mtptg = salobj.Remote(domain, \"MTPtg\")\n",
    "#newmtmount = salobj.Remote(domain, \"NewMTMount\")\n",
    "\n",
    "#await asyncio.gather(mtcs.start_task, comcam.start_task)\n",
    "await asyncio.gather(comcam.start_task) #, mtptg.start_task, newmtmount.start_task)"
   ]
  },
  {
   "cell_type": "code",
   "execution_count": null,
   "metadata": {},
   "outputs": [],
   "source": [
    "await comcam.enable(settings={\"cccamera\": \"Normal\",\n",
    "                              \"ccarchiver\": \"normal\",\n",
    "                              \"ccheaderservice\": None})"
   ]
  },
  {
   "cell_type": "code",
   "execution_count": 7,
   "metadata": {},
   "outputs": [
    {
     "name": "stdout",
     "output_type": "stream",
     "text": [
      "CALSET_20210520_2313\n"
     ]
    }
   ],
   "source": [
    "date = Time.now()\n",
    "group_id = f'CALSET_{date.tai.strftime(\"%Y%m%d_%H%M\")}'\n",
    "#group_id = \"CALSET_20200914_1449\"\n",
    "print(group_id)"
   ]
  },
  {
   "cell_type": "code",
   "execution_count": 8,
   "metadata": {},
   "outputs": [
    {
     "data": {
      "text/plain": [
       "['i_06', 'r_03', 'g_07']"
      ]
     },
     "execution_count": 8,
     "metadata": {},
     "output_type": "execute_result"
    }
   ],
   "source": [
    "#get available filters\n",
    "await comcam.get_available_filters()"
   ]
  },
  {
   "cell_type": "code",
   "execution_count": 9,
   "metadata": {},
   "outputs": [
    {
     "data": {
      "text/plain": [
       "'r_03'"
      ]
     },
     "execution_count": 9,
     "metadata": {},
     "output_type": "execute_result"
    }
   ],
   "source": [
    "#get current filter\n",
    "await comcam.get_current_filter()"
   ]
  },
  {
   "cell_type": "code",
   "execution_count": 10,
   "metadata": {},
   "outputs": [
    {
     "name": "stdout",
     "output_type": "stream",
     "text": [
      "Filter i_06 in position.\n"
     ]
    }
   ],
   "source": [
    "# set filter manually\n",
    "#old way\n",
    "#comcam.rem.cccamera.cmd_setFilter.set(name=\"i_06\")\n",
    "#await comcam.rem.cccamera.cmd_setFilter.start(timeout=60)\n",
    "#new way\n",
    "await comcam.setup_instrument(filter=\"i_06\")"
   ]
  },
  {
   "cell_type": "code",
   "execution_count": 11,
   "metadata": {},
   "outputs": [
    {
     "name": "stdout",
     "output_type": "stream",
     "text": [
      "imagetype: FLAT, skip TCS synchronization.\n",
      "FLAT 0001 - 0001\n"
     ]
    },
    {
     "data": {
      "text/plain": [
       "array([2021052000001])"
      ]
     },
     "execution_count": 11,
     "metadata": {},
     "output_type": "execute_result"
    }
   ],
   "source": [
    "#for testing L3 condensation\n",
    "await comcam.take_flats(exptime=1.0, nflats=1, group_id=group_id, note=\"test\")#, filter=\"g_07\")"
   ]
  },
  {
   "cell_type": "code",
   "execution_count": 19,
   "metadata": {},
   "outputs": [
    {
     "name": "stdout",
     "output_type": "stream",
     "text": [
      "imagetype: BIAS, skip TCS synchronization.\n",
      "BIAS 0001 - 0010\n",
      "BIAS 0002 - 0010\n",
      "BIAS 0003 - 0010\n",
      "BIAS 0004 - 0010\n",
      "BIAS 0005 - 0010\n",
      "BIAS 0006 - 0010\n",
      "BIAS 0007 - 0010\n",
      "BIAS 0008 - 0010\n",
      "BIAS 0009 - 0010\n",
      "BIAS 0010 - 0010\n"
     ]
    },
    {
     "data": {
      "text/plain": [
       "array([2021051400005, 2021051400006, 2021051400007, 2021051400008,\n",
       "       2021051400009, 2021051400010, 2021051400011, 2021051400012,\n",
       "       2021051400013, 2021051400014])"
      ]
     },
     "execution_count": 19,
     "metadata": {},
     "output_type": "execute_result"
    }
   ],
   "source": [
    "await comcam.take_bias(nbias=10, group_id=group_id, note=\"standardCal\")"
   ]
  },
  {
   "cell_type": "code",
   "execution_count": 20,
   "metadata": {},
   "outputs": [
    {
     "name": "stdout",
     "output_type": "stream",
     "text": [
      "imagetype: DARK, skip TCS synchronization.\n",
      "DARK 0001 - 0010\n",
      "DARK 0002 - 0010\n",
      "DARK 0003 - 0010\n",
      "DARK 0004 - 0010\n",
      "DARK 0005 - 0010\n",
      "DARK 0006 - 0010\n",
      "DARK 0007 - 0010\n",
      "logMessage DDS read queue is filling: 17 of 100 elements\n",
      "DARK 0008 - 0010\n",
      "DARK 0009 - 0010\n",
      "DARK 0010 - 0010\n",
      "logMessage DDS read queue is filling: 17 of 100 elements\n"
     ]
    },
    {
     "data": {
      "text/plain": [
       "array([2021051400015, 2021051400016, 2021051400017, 2021051400018,\n",
       "       2021051400019, 2021051400020, 2021051400021, 2021051400022,\n",
       "       2021051400023, 2021051400024])"
      ]
     },
     "execution_count": 20,
     "metadata": {},
     "output_type": "execute_result"
    }
   ],
   "source": [
    "await comcam.take_darks(exptime=100.0, ndarks=10, group_id=group_id, note=\"standardCal\")"
   ]
  },
  {
   "cell_type": "code",
   "execution_count": 21,
   "metadata": {},
   "outputs": [
    {
     "name": "stdout",
     "output_type": "stream",
     "text": [
      "imagetype: FLAT, skip TCS synchronization.\n",
      "FLAT 0001 - 0010\n",
      "FLAT 0002 - 0010\n",
      "FLAT 0003 - 0010\n",
      "FLAT 0004 - 0010\n",
      "FLAT 0005 - 0010\n",
      "FLAT 0006 - 0010\n",
      "FLAT 0007 - 0010\n",
      "FLAT 0008 - 0010\n",
      "FLAT 0009 - 0010\n",
      "FLAT 0010 - 0010\n"
     ]
    },
    {
     "data": {
      "text/plain": [
       "array([2021051400025, 2021051400026, 2021051400027, 2021051400028,\n",
       "       2021051400029, 2021051400030, 2021051400031, 2021051400032,\n",
       "       2021051400033, 2021051400034])"
      ]
     },
     "execution_count": 21,
     "metadata": {},
     "output_type": "execute_result"
    }
   ],
   "source": [
    "await comcam.take_flats(exptime=5.0, nflats=10, group_id=group_id, note=\"standardCal\")"
   ]
  },
  {
   "cell_type": "code",
   "execution_count": null,
   "metadata": {},
   "outputs": [],
   "source": [
    "# FOR PTC run\n",
    "await comcam.take_bias(nbias=5, group_id=group_id, note=\"PTC\")\n",
    "await comcam.take_flats(exptime=0.5, nflats=2, group_id=group_id, note=\"PTC\")\n",
    "await comcam.take_flats(exptime=1.0, nflats=2, group_id=group_id, note=\"PTC\")\n",
    "await comcam.take_flats(exptime=1.5, nflats=2, group_id=group_id, note=\"PTC\")\n",
    "await comcam.take_flats(exptime=2.0, nflats=2, group_id=group_id, note=\"PTC\")\n",
    "await comcam.take_flats(exptime=3.0, nflats=2, group_id=group_id, note=\"PTC\")\n",
    "await comcam.take_flats(exptime=4.0, nflats=2, group_id=group_id, note=\"PTC\")\n",
    "await comcam.take_flats(exptime=5.0, nflats=2, group_id=group_id, note=\"PTC\")\n",
    "await comcam.take_flats(exptime=6.0, nflats=2, group_id=group_id, note=\"PTC\")\n",
    "await comcam.take_flats(exptime=7.0, nflats=2, group_id=group_id, note=\"PTC\")\n",
    "await comcam.take_flats(exptime=8.0, nflats=2, group_id=group_id, note=\"PTC\")\n",
    "await comcam.take_flats(exptime=9.0, nflats=2, group_id=group_id, note=\"PTC\")\n",
    "await comcam.take_flats(exptime=10.0, nflats=2, group_id=group_id, note=\"PTC\")\n",
    "await comcam.take_flats(exptime=15.0, nflats=2, group_id=group_id, note=\"PTC\")\n",
    "await comcam.take_flats(exptime=20.0, nflats=2, group_id=group_id, note=\"PTC\")\n",
    "await comcam.take_flats(exptime=25.0, nflats=2, group_id=group_id, note=\"PTC\")\n",
    "await comcam.take_flats(exptime=30.0, nflats=2, group_id=group_id, note=\"PTC\")\n",
    "await comcam.take_flats(exptime=40.0, nflats=2, group_id=group_id, note=\"PTC\")\n",
    "await comcam.take_flats(exptime=50.0, nflats=2, group_id=group_id, note=\"PTC\")\n",
    "await comcam.take_flats(exptime=60.0, nflats=2, group_id=group_id, note=\"PTC\")\n",
    "await comcam.take_bias(nbias=5, group_id=group_id, note=\"PTC\")"
   ]
  },
  {
   "cell_type": "code",
   "execution_count": null,
   "metadata": {},
   "outputs": [],
   "source": [
    "# For gain stability run\n",
    "await comcam.take_bias(nbias=5, group_id=group_id, note=\"gainStability\")\n",
    "for i in range(0,2000):\n",
    "    await comcam.take_flats(exptime=21.0, nflats=2000, group_id=group_id, note=\"gainStability\")\n",
    "    await asyncio.sleep(10)\n",
    "    \n",
    "await comcam.take_bias(nbias=5, group_id=group_id, note=\"gainStability\")"
   ]
  },
  {
   "cell_type": "code",
   "execution_count": null,
   "metadata": {},
   "outputs": [],
   "source": [
    "await comcam.standby()"
   ]
  },
  {
   "cell_type": "code",
   "execution_count": null,
   "metadata": {},
   "outputs": [],
   "source": [
    "await domain.close()"
   ]
  },
  {
   "cell_type": "code",
   "execution_count": null,
   "metadata": {},
   "outputs": [],
   "source": []
  }
 ],
 "metadata": {
  "kernelspec": {
   "display_name": "LSST",
   "language": "python",
   "name": "lsst"
  },
  "language_info": {
   "codemirror_mode": {
    "name": "ipython",
    "version": 3
   },
   "file_extension": ".py",
   "mimetype": "text/x-python",
   "name": "python",
   "nbconvert_exporter": "python",
   "pygments_lexer": "ipython3",
   "version": "3.8.8"
  }
 },
 "nbformat": 4,
 "nbformat_minor": 4
}
