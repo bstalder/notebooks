{
 "cells": [
  {
   "cell_type": "markdown",
   "id": "43d68f4d-64c5-417f-98d6-f6ed98807ef6",
   "metadata": {},
   "source": [
    "# Soak Test Prototype"
   ]
  },
  {
   "cell_type": "code",
   "execution_count": null,
   "id": "86c855ac-1e06-4e64-8ae4-0294dad838a5",
   "metadata": {},
   "outputs": [],
   "source": [
    "test_case = \"LVV-TXXXX\"\n",
    "test_exec = \"LVV-EXXXX\""
   ]
  },
  {
   "cell_type": "markdown",
   "id": "8d6691f0-3e85-490c-b3ad-80304e7fbd75",
   "metadata": {},
   "source": [
    "## Setup Environment\n",
    "\n",
    "### Import Libraries"
   ]
  },
  {
   "cell_type": "code",
   "execution_count": 4,
   "id": "c9e56b8c-ceb0-4ab6-93ab-881f3e2b5b32",
   "metadata": {},
   "outputs": [
    {
     "name": "stdout",
     "output_type": "stream",
     "text": [
      "The autoreload extension is already loaded. To reload it, use:\n",
      "  %reload_ext autoreload\n"
     ]
    }
   ],
   "source": [
    "%load_ext autoreload\n",
    "%autoreload 2\n",
    "\n",
    "import os\n",
    "import sys\n",
    "import asyncio\n",
    "import logging\n",
    "\n",
    "import numpy as np\n",
    "\n",
    "from matplotlib import pyplot as plt\n",
    "\n",
    "from lsst.ts import salobj\n",
    "from lsst.ts.observatory.control.maintel.mtcs import MTCS\n",
    "\n",
    "from lsst.sitcom import vandv"
   ]
  },
  {
   "cell_type": "markdown",
   "id": "4d08bb90-652b-4508-a3b7-b8e3d1fb0f2c",
   "metadata": {},
   "source": [
    "### Get execution info "
   ]
  },
  {
   "cell_type": "code",
   "execution_count": null,
   "id": "9bfe1f07-b04a-409a-a7fd-f2fb21c5e963",
   "metadata": {},
   "outputs": [],
   "source": [
    "exec_info = vandv.ExecutionInfo()\n",
    "print(exec_info)"
   ]
  },
  {
   "cell_type": "markdown",
   "id": "6f362c79-6499-48fd-a9c5-b2d046eb06d2",
   "metadata": {},
   "source": [
    "### Confirm environment variables"
   ]
  },
  {
   "cell_type": "code",
   "execution_count": null,
   "id": "b2da0ae9-fff5-4eb4-a485-fd833c9f41ab",
   "metadata": {},
   "outputs": [],
   "source": [
    "print(os.environ[\"OSPL_URI\"])\n",
    "print(os.environ[\"LSST_DDS_PARTITION_PREFIX\"])\n",
    "print(os.environ.get(\"LSST_DDS_DOMAIN_ID\", \"Expected, not set.\"))"
   ]
  },
  {
   "cell_type": "markdown",
   "id": "62598020-93b3-411b-83e7-fe17eb84d78c",
   "metadata": {},
   "source": [
    "### Setup logging"
   ]
  },
  {
   "cell_type": "code",
   "execution_count": 2,
   "id": "b4cff06b-563a-4258-b290-d9df58b8cde3",
   "metadata": {},
   "outputs": [],
   "source": [
    "logging.basicConfig(format=\"%(name)s:%(message)s\", level=logging.DEBUG)\n",
    "log = logging.getLogger(\"soak_test\")\n",
    "log.level = logging.DEBUG\n",
    "log.addFilter(vandv.logger.filter_dds_read_queue_is_filling)\n",
    "log.addFilter(vandv.logger.filter_dds_read_queue_is_full)"
   ]
  },
  {
   "cell_type": "code",
   "execution_count": 3,
   "id": "2d1d6c96-8659-4b3e-8996-2cd4ab13d91b",
   "metadata": {},
   "outputs": [
    {
     "data": {
      "text/html": [
       "<pre style=\"margin: 0.1em;\n",
       "padding-left: 0.25em;\n",
       "border-left-style: solid;\n",
       "font-family: var(--jp-code-font-family);\n",
       "font-size: var(--jp-code-font-size);\n",
       "line-height: var(--jp-code-line-height);\n",
       "\"><span style=\"color: var(--jp-warn-color2)\">soak_test.MTCS</span> <span style=\"color: var(--jp-success-color0)\">DEBUG</span>: mtmount: Adding all resources.</pre>"
      ],
      "text/plain": [
       "<IPython.core.display.HTML object>"
      ]
     },
     "metadata": {},
     "output_type": "display_data"
    },
    {
     "data": {
      "text/html": [
       "<pre style=\"margin: 0.1em;\n",
       "padding-left: 0.25em;\n",
       "border-left-style: solid;\n",
       "font-family: var(--jp-code-font-family);\n",
       "font-size: var(--jp-code-font-size);\n",
       "line-height: var(--jp-code-line-height);\n",
       "\"><span style=\"color: var(--jp-warn-color2)\">MTMount</span> <span style=\"color: var(--jp-info-color0)\">INFO</span>: Disabling authlist-based command authorization</pre>"
      ],
      "text/plain": [
       "<IPython.core.display.HTML object>"
      ]
     },
     "metadata": {},
     "output_type": "display_data"
    },
    {
     "data": {
      "text/html": [
       "<pre style=\"margin: 0.1em;\n",
       "padding-left: 0.25em;\n",
       "border-left-style: solid;\n",
       "font-family: var(--jp-code-font-family);\n",
       "font-size: var(--jp-code-font-size);\n",
       "line-height: var(--jp-code-line-height);\n",
       "\"><span style=\"color: var(--jp-warn-color2)\">soak_test.MTCS</span> <span style=\"color: var(--jp-success-color0)\">DEBUG</span>: mtptg: Adding all resources.</pre>"
      ],
      "text/plain": [
       "<IPython.core.display.HTML object>"
      ]
     },
     "metadata": {},
     "output_type": "display_data"
    },
    {
     "data": {
      "text/html": [
       "<pre style=\"margin: 0.1em;\n",
       "padding-left: 0.25em;\n",
       "border-left-style: solid;\n",
       "font-family: var(--jp-code-font-family);\n",
       "font-size: var(--jp-code-font-size);\n",
       "line-height: var(--jp-code-line-height);\n",
       "\"><span style=\"color: var(--jp-warn-color2)\">MTPtg</span> <span style=\"color: var(--jp-info-color0)\">INFO</span>: Disabling authlist-based command authorization</pre>"
      ],
      "text/plain": [
       "<IPython.core.display.HTML object>"
      ]
     },
     "metadata": {},
     "output_type": "display_data"
    },
    {
     "data": {
      "text/html": [
       "<pre style=\"margin: 0.1em;\n",
       "padding-left: 0.25em;\n",
       "border-left-style: solid;\n",
       "font-family: var(--jp-code-font-family);\n",
       "font-size: var(--jp-code-font-size);\n",
       "line-height: var(--jp-code-line-height);\n",
       "\"><span style=\"color: var(--jp-warn-color2)\">soak_test.MTCS</span> <span style=\"color: var(--jp-success-color0)\">DEBUG</span>: mtaos: Adding all resources.</pre>"
      ],
      "text/plain": [
       "<IPython.core.display.HTML object>"
      ]
     },
     "metadata": {},
     "output_type": "display_data"
    },
    {
     "data": {
      "text/html": [
       "<pre style=\"margin: 0.1em;\n",
       "padding-left: 0.25em;\n",
       "border-left-style: solid;\n",
       "font-family: var(--jp-code-font-family);\n",
       "font-size: var(--jp-code-font-size);\n",
       "line-height: var(--jp-code-line-height);\n",
       "\"><span style=\"color: var(--jp-warn-color2)\">MTAOS</span> <span style=\"color: var(--jp-info-color0)\">INFO</span>: Disabling authlist-based command authorization</pre>"
      ],
      "text/plain": [
       "<IPython.core.display.HTML object>"
      ]
     },
     "metadata": {},
     "output_type": "display_data"
    },
    {
     "data": {
      "text/html": [
       "<pre style=\"margin: 0.1em;\n",
       "padding-left: 0.25em;\n",
       "border-left-style: solid;\n",
       "font-family: var(--jp-code-font-family);\n",
       "font-size: var(--jp-code-font-size);\n",
       "line-height: var(--jp-code-line-height);\n",
       "\"><span style=\"color: var(--jp-warn-color2)\">soak_test.MTCS</span> <span style=\"color: var(--jp-success-color0)\">DEBUG</span>: mtm1m3: Adding all resources.</pre>"
      ],
      "text/plain": [
       "<IPython.core.display.HTML object>"
      ]
     },
     "metadata": {},
     "output_type": "display_data"
    },
    {
     "data": {
      "text/html": [
       "<pre style=\"margin: 0.1em;\n",
       "padding-left: 0.25em;\n",
       "border-left-style: solid;\n",
       "font-family: var(--jp-code-font-family);\n",
       "font-size: var(--jp-code-font-size);\n",
       "line-height: var(--jp-code-line-height);\n",
       "\"><span style=\"color: var(--jp-warn-color2)\">MTM1M3</span> <span style=\"color: var(--jp-info-color0)\">INFO</span>: Disabling authlist-based command authorization</pre>"
      ],
      "text/plain": [
       "<IPython.core.display.HTML object>"
      ]
     },
     "metadata": {},
     "output_type": "display_data"
    },
    {
     "data": {
      "text/html": [
       "<pre style=\"margin: 0.1em;\n",
       "padding-left: 0.25em;\n",
       "border-left-style: solid;\n",
       "font-family: var(--jp-code-font-family);\n",
       "font-size: var(--jp-code-font-size);\n",
       "line-height: var(--jp-code-line-height);\n",
       "\"><span style=\"color: var(--jp-warn-color2)\">soak_test.MTCS</span> <span style=\"color: var(--jp-success-color0)\">DEBUG</span>: mtm2: Adding all resources.</pre>"
      ],
      "text/plain": [
       "<IPython.core.display.HTML object>"
      ]
     },
     "metadata": {},
     "output_type": "display_data"
    },
    {
     "data": {
      "text/html": [
       "<pre style=\"margin: 0.1em;\n",
       "padding-left: 0.25em;\n",
       "border-left-style: solid;\n",
       "font-family: var(--jp-code-font-family);\n",
       "font-size: var(--jp-code-font-size);\n",
       "line-height: var(--jp-code-line-height);\n",
       "\"><span style=\"color: var(--jp-warn-color2)\">MTM2</span> <span style=\"color: var(--jp-info-color0)\">INFO</span>: Disabling authlist-based command authorization</pre>"
      ],
      "text/plain": [
       "<IPython.core.display.HTML object>"
      ]
     },
     "metadata": {},
     "output_type": "display_data"
    },
    {
     "data": {
      "text/html": [
       "<pre style=\"margin: 0.1em;\n",
       "padding-left: 0.25em;\n",
       "border-left-style: solid;\n",
       "font-family: var(--jp-code-font-family);\n",
       "font-size: var(--jp-code-font-size);\n",
       "line-height: var(--jp-code-line-height);\n",
       "\"><span style=\"color: var(--jp-warn-color2)\">soak_test.MTCS</span> <span style=\"color: var(--jp-success-color0)\">DEBUG</span>: mthexapod_1: Adding all resources.</pre>"
      ],
      "text/plain": [
       "<IPython.core.display.HTML object>"
      ]
     },
     "metadata": {},
     "output_type": "display_data"
    },
    {
     "data": {
      "text/html": [
       "<pre style=\"margin: 0.1em;\n",
       "padding-left: 0.25em;\n",
       "border-left-style: solid;\n",
       "font-family: var(--jp-code-font-family);\n",
       "font-size: var(--jp-code-font-size);\n",
       "line-height: var(--jp-code-line-height);\n",
       "\"><span style=\"color: var(--jp-warn-color2)\">MTHexapod</span> <span style=\"color: var(--jp-info-color0)\">INFO</span>: Disabling authlist-based command authorization</pre>"
      ],
      "text/plain": [
       "<IPython.core.display.HTML object>"
      ]
     },
     "metadata": {},
     "output_type": "display_data"
    },
    {
     "data": {
      "text/html": [
       "<pre style=\"margin: 0.1em;\n",
       "padding-left: 0.25em;\n",
       "border-left-style: solid;\n",
       "font-family: var(--jp-code-font-family);\n",
       "font-size: var(--jp-code-font-size);\n",
       "line-height: var(--jp-code-line-height);\n",
       "\"><span style=\"color: var(--jp-warn-color2)\">soak_test.MTCS</span> <span style=\"color: var(--jp-success-color0)\">DEBUG</span>: mthexapod_2: Adding all resources.</pre>"
      ],
      "text/plain": [
       "<IPython.core.display.HTML object>"
      ]
     },
     "metadata": {},
     "output_type": "display_data"
    },
    {
     "data": {
      "text/html": [
       "<pre style=\"margin: 0.1em;\n",
       "padding-left: 0.25em;\n",
       "border-left-style: solid;\n",
       "font-family: var(--jp-code-font-family);\n",
       "font-size: var(--jp-code-font-size);\n",
       "line-height: var(--jp-code-line-height);\n",
       "\"><span style=\"color: var(--jp-warn-color2)\">MTHexapod</span> <span style=\"color: var(--jp-info-color0)\">INFO</span>: Disabling authlist-based command authorization</pre>"
      ],
      "text/plain": [
       "<IPython.core.display.HTML object>"
      ]
     },
     "metadata": {},
     "output_type": "display_data"
    },
    {
     "data": {
      "text/html": [
       "<pre style=\"margin: 0.1em;\n",
       "padding-left: 0.25em;\n",
       "border-left-style: solid;\n",
       "font-family: var(--jp-code-font-family);\n",
       "font-size: var(--jp-code-font-size);\n",
       "line-height: var(--jp-code-line-height);\n",
       "\"><span style=\"color: var(--jp-warn-color2)\">soak_test.MTCS</span> <span style=\"color: var(--jp-success-color0)\">DEBUG</span>: mtrotator: Adding all resources.</pre>"
      ],
      "text/plain": [
       "<IPython.core.display.HTML object>"
      ]
     },
     "metadata": {},
     "output_type": "display_data"
    },
    {
     "data": {
      "text/html": [
       "<pre style=\"margin: 0.1em;\n",
       "padding-left: 0.25em;\n",
       "border-left-style: solid;\n",
       "font-family: var(--jp-code-font-family);\n",
       "font-size: var(--jp-code-font-size);\n",
       "line-height: var(--jp-code-line-height);\n",
       "\"><span style=\"color: var(--jp-warn-color2)\">MTRotator</span> <span style=\"color: var(--jp-info-color0)\">INFO</span>: Disabling authlist-based command authorization</pre>"
      ],
      "text/plain": [
       "<IPython.core.display.HTML object>"
      ]
     },
     "metadata": {},
     "output_type": "display_data"
    },
    {
     "data": {
      "text/html": [
       "<pre style=\"margin: 0.1em;\n",
       "padding-left: 0.25em;\n",
       "border-left-style: solid;\n",
       "font-family: var(--jp-code-font-family);\n",
       "font-size: var(--jp-code-font-size);\n",
       "line-height: var(--jp-code-line-height);\n",
       "\"><span style=\"color: var(--jp-warn-color2)\">soak_test.MTCS</span> <span style=\"color: var(--jp-success-color0)\">DEBUG</span>: mtdome: Adding all resources.</pre>"
      ],
      "text/plain": [
       "<IPython.core.display.HTML object>"
      ]
     },
     "metadata": {},
     "output_type": "display_data"
    },
    {
     "data": {
      "text/html": [
       "<pre style=\"margin: 0.1em;\n",
       "padding-left: 0.25em;\n",
       "border-left-style: solid;\n",
       "font-family: var(--jp-code-font-family);\n",
       "font-size: var(--jp-code-font-size);\n",
       "line-height: var(--jp-code-line-height);\n",
       "\"><span style=\"color: var(--jp-warn-color2)\">MTDome</span> <span style=\"color: var(--jp-info-color0)\">INFO</span>: Disabling authlist-based command authorization</pre>"
      ],
      "text/plain": [
       "<IPython.core.display.HTML object>"
      ]
     },
     "metadata": {},
     "output_type": "display_data"
    },
    {
     "data": {
      "text/html": [
       "<pre style=\"margin: 0.1em;\n",
       "padding-left: 0.25em;\n",
       "border-left-style: solid;\n",
       "font-family: var(--jp-code-font-family);\n",
       "font-size: var(--jp-code-font-size);\n",
       "line-height: var(--jp-code-line-height);\n",
       "\"><span style=\"color: var(--jp-warn-color2)\">soak_test.MTCS</span> <span style=\"color: var(--jp-success-color0)\">DEBUG</span>: mtdometrajectory: Adding all resources.</pre>"
      ],
      "text/plain": [
       "<IPython.core.display.HTML object>"
      ]
     },
     "metadata": {},
     "output_type": "display_data"
    },
    {
     "data": {
      "text/html": [
       "<pre style=\"margin: 0.1em;\n",
       "padding-left: 0.25em;\n",
       "border-left-style: solid;\n",
       "font-family: var(--jp-code-font-family);\n",
       "font-size: var(--jp-code-font-size);\n",
       "line-height: var(--jp-code-line-height);\n",
       "\"><span style=\"color: var(--jp-warn-color2)\">MTDomeTrajectory</span> <span style=\"color: var(--jp-info-color0)\">INFO</span>: Disabling authlist-based command authorization</pre>"
      ],
      "text/plain": [
       "<IPython.core.display.HTML object>"
      ]
     },
     "metadata": {},
     "output_type": "display_data"
    },
    {
     "data": {
      "text/html": [
       "<pre style=\"margin: 0.1em;\n",
       "padding-left: 0.25em;\n",
       "border-left-style: solid;\n",
       "font-family: var(--jp-code-font-family);\n",
       "font-size: var(--jp-code-font-size);\n",
       "line-height: var(--jp-code-line-height);\n",
       "\"><span style=\"color: var(--jp-warn-color2)\">MTHexapod</span> <span style=\"color: var(--jp-info-color0)\">INFO</span>: Read historical data in 0.01 sec</pre>"
      ],
      "text/plain": [
       "<IPython.core.display.HTML object>"
      ]
     },
     "metadata": {},
     "output_type": "display_data"
    },
    {
     "data": {
      "text/html": [
       "<pre style=\"margin: 0.1em;\n",
       "padding-left: 0.25em;\n",
       "border-left-style: solid;\n",
       "font-family: var(--jp-code-font-family);\n",
       "font-size: var(--jp-code-font-size);\n",
       "line-height: var(--jp-code-line-height);\n",
       "\"><span style=\"color: var(--jp-warn-color2)\">MTHexapod</span> <span style=\"color: var(--jp-info-color0)\">INFO</span>: Read historical data in 0.08 sec</pre>"
      ],
      "text/plain": [
       "<IPython.core.display.HTML object>"
      ]
     },
     "metadata": {},
     "output_type": "display_data"
    },
    {
     "data": {
      "text/plain": [
       "[None, None, None, None, None, None, None, None, None, None]"
      ]
     },
     "execution_count": 3,
     "metadata": {},
     "output_type": "execute_result"
    }
   ],
   "source": [
    "domain = salobj.Domain()\n",
    "\n",
    "mtcs = MTCS(domain=domain, log=log)\n",
    "mtcs.set_rem_loglevel(40)\n",
    "\n",
    "await mtcs.start_task"
   ]
  },
  {
   "cell_type": "markdown",
   "id": "23e83803-1ac6-433b-9391-1a27d0497c16",
   "metadata": {},
   "source": [
    "## Helper Functions"
   ]
  },
  {
   "cell_type": "code",
   "execution_count": 26,
   "id": "b17a2f50-df7d-4fdd-b797-25063be6855c",
   "metadata": {},
   "outputs": [],
   "source": [
    "_az = 0\n",
    "_el = 80"
   ]
  },
  {
   "cell_type": "code",
   "execution_count": 27,
   "id": "2e48be9c-4648-48f6-b149-fa1ba8a6f8fb",
   "metadata": {},
   "outputs": [],
   "source": [
    "def random_walk_azel(n_steps, \n",
    "                     radius=3.5, \n",
    "                     min_az=-200., \n",
    "                     max_az=+200, \n",
    "                     min_el=30, \n",
    "                     max_el=75,\n",
    "                     verbose=True,\n",
    "                    ):\n",
    "\n",
    "    if verbose:\n",
    "        print(f\"{'Steps':>10s}{'New Az':>10s}{'New El':>10s}\")\n",
    "        \n",
    "    step = 0\n",
    "    while step < n_steps:\n",
    "        \n",
    "        # current_az = mtcs.rem.mtmount.tel_azimuth.get()\n",
    "        # current_az = current_az.actualPosition\n",
    "        current_az = _az\n",
    "        offset_az = np.sqrt(radius) * (2 * np.random.rand() - 1)\n",
    "        new_az = current_az + offset_az\n",
    "                \n",
    "        # current_el = mtcs.rem.mtmount.tel_elevation.get()\n",
    "        # current_el = current_el.actualPosition\n",
    "        current_el = _el\n",
    "        offset_el = np.sqrt(radius) * (2 * np.random.rand() - 1)\n",
    "        new_el = current_el + offset_el\n",
    "        \n",
    "        if new_az <= min_az or new_az >= max_az:\n",
    "            new_az = current_az - offset_az\n",
    "            \n",
    "        if new_el <= min_el or new_el >= max_el:\n",
    "            new_el = current_el - offset_el\n",
    "\n",
    "        if verbose:\n",
    "            print(f\"{step:10d}{new_az:10.2f}{new_el:10.2f}\")\n",
    "\n",
    "        yield new_az, new_el\n",
    "        step += 1"
   ]
  },
  {
   "cell_type": "code",
   "execution_count": 28,
   "id": "25fd1032-3aa0-4e04-9b88-0403c53c596d",
   "metadata": {},
   "outputs": [
    {
     "name": "stdout",
     "output_type": "stream",
     "text": [
      "     Steps    New Az    New El\n",
      "         0      0.34     81.77\n",
      "         1      0.64     83.41\n",
      "         2     -0.40     85.11\n",
      "         3      0.53     84.48\n",
      "         4      2.29     83.64\n",
      "         5      1.22     83.55\n",
      "         6      2.93     82.45\n",
      "         7      3.09     82.41\n",
      "         8      2.90     84.11\n",
      "         9      3.77     84.37\n",
      "        10      1.99     83.19\n",
      "        11      0.72     83.15\n",
      "        12      1.78     82.07\n",
      "        13      1.14     80.64\n",
      "        14     -0.31     80.42\n",
      "        15      1.28     80.06\n",
      "        16     -0.18     80.09\n",
      "        17      1.22     78.75\n",
      "        18      1.70     79.18\n",
      "        19      2.06     80.01\n",
      "        20      2.15     81.02\n",
      "        21      3.84     79.55\n",
      "        22      3.74     80.97\n",
      "        23      3.78     80.88\n",
      "        24      4.55     79.05\n",
      "        25      6.13     79.47\n",
      "        26      6.44     80.52\n",
      "        27      4.92     79.29\n",
      "        28      4.80     78.58\n",
      "        29      4.62     79.84\n",
      "        30      2.90     79.98\n",
      "        31      3.27     79.32\n",
      "        32      1.95     78.83\n",
      "        33      3.66     79.19\n",
      "        34      2.35     80.27\n",
      "        35      3.14     79.61\n",
      "        36      1.95     79.31\n",
      "        37      0.89     78.67\n",
      "        38      1.96     79.19\n",
      "        39      0.73     77.81\n",
      "        40     -0.23     77.76\n",
      "        41      0.22     77.89\n",
      "        42     -1.29     78.14\n",
      "        43     -2.33     79.42\n",
      "        44     -3.80     79.83\n",
      "        45     -3.56     80.00\n",
      "        46     -3.78     81.51\n",
      "        47     -3.34     82.56\n",
      "        48     -3.95     81.28\n",
      "        49     -3.35     82.21\n",
      "        50     -4.15     83.91\n",
      "        51     -4.19     82.55\n",
      "        52     -2.88     81.11\n",
      "        53     -2.29     81.94\n",
      "        54     -0.47     81.69\n",
      "        55     -1.63     83.17\n",
      "        56     -0.11     83.56\n",
      "        57      0.16     82.39\n",
      "        58     -1.17     83.95\n",
      "        59     -0.01     85.46\n",
      "        60     -1.27     84.61\n",
      "        61     -2.12     85.83\n",
      "        62     -1.53     84.53\n",
      "        63     -2.01     85.05\n",
      "        64     -1.19     84.12\n",
      "        65     -0.43     83.24\n",
      "        66      0.21     85.03\n",
      "        67      0.87     86.24\n",
      "        68      1.80     85.35\n",
      "        69      1.31     85.66\n",
      "        70      2.07     85.99\n",
      "        71      1.72     86.26\n",
      "        72      2.64     85.65\n",
      "        73      1.18     87.48\n",
      "        74     -0.67     88.53\n",
      "        75     -1.19     87.74\n",
      "        76      0.44     88.33\n",
      "        77     -0.17     87.37\n",
      "        78      0.95     85.68\n",
      "        79      1.56     85.87\n",
      "        80      2.99     84.18\n",
      "        81      1.56     85.33\n",
      "        82      1.14     86.59\n",
      "        83      1.25     87.26\n",
      "        84      2.72     87.27\n",
      "        85      3.62     88.13\n",
      "        86      5.23     87.55\n",
      "        87      4.79     86.10\n",
      "        88      3.39     85.64\n",
      "        89      4.85     87.17\n",
      "        90      5.58     86.42\n",
      "        91      6.13     87.78\n",
      "        92      5.68     87.93\n",
      "        93      7.19     89.42\n",
      "        94      8.03     88.80\n",
      "        95      7.90     90.60\n",
      "        96      9.74     89.49\n",
      "        97     11.20     88.40\n",
      "        98     10.38     89.41\n",
      "        99      9.29     89.74\n"
     ]
    }
   ],
   "source": [
    "for az, el in random_walk_azel(100):\n",
    "    _az, _el = az, el"
   ]
  },
  {
   "cell_type": "code",
   "execution_count": null,
   "id": "444d3f05-0e29-466e-a23d-35c1ff9e3a34",
   "metadata": {},
   "outputs": [],
   "source": []
  }
 ],
 "metadata": {
  "kernelspec": {
   "display_name": "LSST",
   "language": "python",
   "name": "lsst"
  },
  "language_info": {
   "codemirror_mode": {
    "name": "ipython",
    "version": 3
   },
   "file_extension": ".py",
   "mimetype": "text/x-python",
   "name": "python",
   "nbconvert_exporter": "python",
   "pygments_lexer": "ipython3",
   "version": "3.10.5"
  }
 },
 "nbformat": 4,
 "nbformat_minor": 5
}
